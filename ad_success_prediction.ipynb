{
 "cells": [
  {
   "cell_type": "markdown",
   "metadata": {},
   "source": [
    "<h1 style=\"color: #6485DB;\">Problem Statement</h1>\n",
    "<hr>\n",
    "\n",
    "### Overview\n",
    "This is a binary classification problem where you need to predict whether an ad buy will lead to a netgain.\n",
    "\n",
    "### Data Description\n",
    "**train.csv**<br>\n",
    "It contains the training data with advertisement details as described in the last section\n",
    "\n",
    "**test.csv**<br>\n",
    "It has advertisement details for which the participants are to submit whether netgain would be there\n",
    "\n",
    "**Data Dictionary**\n",
    "\n",
    "|Variable                          |Description|\n",
    "|:---------------------------------|:-----------|\n",
    "|UserID                            |Unique id for each row|\n",
    "|ratings                           |Metric out of 1 which represents how much of the targeted demographic watched the advertisement|\n",
    "|airlocation                       |Country of origin|\n",
    "|airtime\t                       |Time when the advertisement was aired|\n",
    "|average_runtime(minutes_per_week) |Minutes per week the advertisement was aired|\n",
    "|targeted_sex                      |Sex that was mainly targeted for the advertisement|\n",
    "|genre\t                           |The type of advertisement|\n",
    "|industry                          |The industry to which the product belonged|\n",
    "|relationship_status               |The relationship status of the most responsive customers to the advertisement|\n",
    "|expensive\t                       |A general measure of how expensive the product or service is that the ad is discussing|\n",
    "|money_back_guarantee\t           |Whether or not the product offers a refund in the case of customer dissatisfaction|\n",
    "|netgain                           |Target, Whether the ad will incur a gain or loss when sold|\n",
    "\n",
    "<hr>"
   ]
  },
  {
   "cell_type": "markdown",
   "metadata": {},
   "source": [
    "## Table of contents <a name=\"table_of_contents\"></a>\n",
    "1. [Importing Important Libraries](#importing_libraries)\n",
    "2. [Loading the Data](#load_data)\n",
    "3. [Data Visualization](#data_visual)\n",
    "4. [Encoding training data](#encoding_train)\n",
    "5. [Split Data using Train_Test_Split](#splitting)\n",
    "6. [Model Building](#model_building)\n",
    "    1. [Using Logistic Regression](#logistic_regression)\n",
    "    2. [Using Decision Tree Classifier](#decision_tree_classifier)\n",
    "    3. [Using CatBoost Classifier](#catboost_classifier)\n",
    "    4. [Using XGBoost Classifier](#xgboost_classifier)\n",
    "7. [Metrics Comparison](#metrics_comparison)\n",
    "8. [Read and Encode Test Data](#read_test_data)\n",
    "9. [Generating Predictions](#predictions)"
   ]
  },
  {
   "cell_type": "markdown",
   "metadata": {},
   "source": [
    "## 1. Import Important Libraries <a name=\"importing_libraries\"></a>"
   ]
  },
  {
   "cell_type": "code",
   "execution_count": 1,
   "metadata": {},
   "outputs": [],
   "source": [
    "import pandas as pd\n",
    "import numpy as np\n",
    "import matplotlib\n",
    "import matplotlib.pyplot as plt\n",
    "%matplotlib inline\n",
    "import seaborn as sns\n",
    "\n",
    "import warnings\n",
    "warnings.filterwarnings('ignore')\n",
    "\n",
    "from sklearn.model_selection import train_test_split\n",
    "from sklearn.linear_model import LogisticRegression\n",
    "from sklearn.tree import DecisionTreeClassifier\n",
    "\n",
    "import xgboost as xgb\n",
    "from catboost import CatBoostClassifier\n",
    "from sklearn.metrics import accuracy_score\n",
    "from sklearn.metrics import f1_score\n"
   ]
  },
  {
   "cell_type": "markdown",
   "metadata": {},
   "source": [
    "## 2. Loading the data <a name=\"load_data\"></a>"
   ]
  },
  {
   "cell_type": "code",
   "execution_count": 2,
   "metadata": {},
   "outputs": [
    {
     "data": {
      "text/html": [
       "<div>\n",
       "<style scoped>\n",
       "    .dataframe tbody tr th:only-of-type {\n",
       "        vertical-align: middle;\n",
       "    }\n",
       "\n",
       "    .dataframe tbody tr th {\n",
       "        vertical-align: top;\n",
       "    }\n",
       "\n",
       "    .dataframe thead th {\n",
       "        text-align: right;\n",
       "    }\n",
       "</style>\n",
       "<table border=\"1\" class=\"dataframe\">\n",
       "  <thead>\n",
       "    <tr style=\"text-align: right;\">\n",
       "      <th></th>\n",
       "      <th>UserID</th>\n",
       "      <th>realtionship_status</th>\n",
       "      <th>industry</th>\n",
       "      <th>genre</th>\n",
       "      <th>targeted_sex</th>\n",
       "      <th>average_runtime(minutes_per_week)</th>\n",
       "      <th>airtime</th>\n",
       "      <th>airlocation</th>\n",
       "      <th>ratings</th>\n",
       "      <th>expensive</th>\n",
       "      <th>money_back_guarantee</th>\n",
       "      <th>netgain</th>\n",
       "    </tr>\n",
       "  </thead>\n",
       "  <tbody>\n",
       "    <tr>\n",
       "      <th>0</th>\n",
       "      <td>UI_9185</td>\n",
       "      <td>Married-civ-spouse</td>\n",
       "      <td>Pharma</td>\n",
       "      <td>Comedy</td>\n",
       "      <td>Male</td>\n",
       "      <td>40</td>\n",
       "      <td>Daytime</td>\n",
       "      <td>United-States</td>\n",
       "      <td>0.027465</td>\n",
       "      <td>Medium</td>\n",
       "      <td>No</td>\n",
       "      <td>0</td>\n",
       "    </tr>\n",
       "    <tr>\n",
       "      <th>1</th>\n",
       "      <td>UI_449</td>\n",
       "      <td>Never-married</td>\n",
       "      <td>Political</td>\n",
       "      <td>Comedy</td>\n",
       "      <td>Male</td>\n",
       "      <td>35</td>\n",
       "      <td>Morning</td>\n",
       "      <td>International</td>\n",
       "      <td>0.027465</td>\n",
       "      <td>Low</td>\n",
       "      <td>No</td>\n",
       "      <td>0</td>\n",
       "    </tr>\n",
       "    <tr>\n",
       "      <th>2</th>\n",
       "      <td>UI_9014</td>\n",
       "      <td>Never-married</td>\n",
       "      <td>Auto</td>\n",
       "      <td>Comedy</td>\n",
       "      <td>Male</td>\n",
       "      <td>40</td>\n",
       "      <td>Morning</td>\n",
       "      <td>United-States</td>\n",
       "      <td>0.027465</td>\n",
       "      <td>Low</td>\n",
       "      <td>No</td>\n",
       "      <td>0</td>\n",
       "    </tr>\n",
       "    <tr>\n",
       "      <th>3</th>\n",
       "      <td>UI_14987</td>\n",
       "      <td>Married-civ-spouse</td>\n",
       "      <td>Pharma</td>\n",
       "      <td>Infomercial</td>\n",
       "      <td>Male</td>\n",
       "      <td>40</td>\n",
       "      <td>Primetime</td>\n",
       "      <td>United-States</td>\n",
       "      <td>0.027465</td>\n",
       "      <td>Low</td>\n",
       "      <td>Yes</td>\n",
       "      <td>0</td>\n",
       "    </tr>\n",
       "    <tr>\n",
       "      <th>4</th>\n",
       "      <td>UI_25532</td>\n",
       "      <td>Married-civ-spouse</td>\n",
       "      <td>Other</td>\n",
       "      <td>Comedy</td>\n",
       "      <td>Female</td>\n",
       "      <td>50</td>\n",
       "      <td>Primetime</td>\n",
       "      <td>United-States</td>\n",
       "      <td>0.027465</td>\n",
       "      <td>Low</td>\n",
       "      <td>Yes</td>\n",
       "      <td>1</td>\n",
       "    </tr>\n",
       "  </tbody>\n",
       "</table>\n",
       "</div>"
      ],
      "text/plain": [
       "     UserID realtionship_status   industry        genre targeted_sex  \\\n",
       "0   UI_9185  Married-civ-spouse     Pharma       Comedy         Male   \n",
       "1    UI_449       Never-married  Political       Comedy         Male   \n",
       "2   UI_9014       Never-married       Auto       Comedy         Male   \n",
       "3  UI_14987  Married-civ-spouse     Pharma  Infomercial         Male   \n",
       "4  UI_25532  Married-civ-spouse      Other       Comedy       Female   \n",
       "\n",
       "   average_runtime(minutes_per_week)    airtime    airlocation   ratings  \\\n",
       "0                                 40    Daytime  United-States  0.027465   \n",
       "1                                 35    Morning  International  0.027465   \n",
       "2                                 40    Morning  United-States  0.027465   \n",
       "3                                 40  Primetime  United-States  0.027465   \n",
       "4                                 50  Primetime  United-States  0.027465   \n",
       "\n",
       "  expensive money_back_guarantee  netgain  \n",
       "0    Medium                   No        0  \n",
       "1       Low                   No        0  \n",
       "2       Low                   No        0  \n",
       "3       Low                  Yes        0  \n",
       "4       Low                  Yes        1  "
      ]
     },
     "execution_count": 2,
     "metadata": {},
     "output_type": "execute_result"
    }
   ],
   "source": [
    "train_df = pd.read_csv(\"data/train.csv\")\n",
    "train_df.head()"
   ]
  },
  {
   "cell_type": "code",
   "execution_count": 3,
   "metadata": {},
   "outputs": [
    {
     "data": {
      "text/plain": [
       "(19536, 12)"
      ]
     },
     "execution_count": 3,
     "metadata": {},
     "output_type": "execute_result"
    }
   ],
   "source": [
    "train_df.shape"
   ]
  },
  {
   "cell_type": "code",
   "execution_count": 4,
   "metadata": {},
   "outputs": [
    {
     "data": {
      "text/html": [
       "<div>\n",
       "<style scoped>\n",
       "    .dataframe tbody tr th:only-of-type {\n",
       "        vertical-align: middle;\n",
       "    }\n",
       "\n",
       "    .dataframe tbody tr th {\n",
       "        vertical-align: top;\n",
       "    }\n",
       "\n",
       "    .dataframe thead th {\n",
       "        text-align: right;\n",
       "    }\n",
       "</style>\n",
       "<table border=\"1\" class=\"dataframe\">\n",
       "  <thead>\n",
       "    <tr style=\"text-align: right;\">\n",
       "      <th></th>\n",
       "      <th>average_runtime(minutes_per_week)</th>\n",
       "      <th>ratings</th>\n",
       "      <th>netgain</th>\n",
       "    </tr>\n",
       "  </thead>\n",
       "  <tbody>\n",
       "    <tr>\n",
       "      <th>count</th>\n",
       "      <td>19536.000000</td>\n",
       "      <td>19536.000000</td>\n",
       "      <td>19536.000000</td>\n",
       "    </tr>\n",
       "    <tr>\n",
       "      <th>mean</th>\n",
       "      <td>40.375665</td>\n",
       "      <td>0.038826</td>\n",
       "      <td>0.238022</td>\n",
       "    </tr>\n",
       "    <tr>\n",
       "      <th>std</th>\n",
       "      <td>12.483166</td>\n",
       "      <td>0.075971</td>\n",
       "      <td>0.425884</td>\n",
       "    </tr>\n",
       "    <tr>\n",
       "      <th>min</th>\n",
       "      <td>1.000000</td>\n",
       "      <td>0.000000</td>\n",
       "      <td>0.000000</td>\n",
       "    </tr>\n",
       "    <tr>\n",
       "      <th>25%</th>\n",
       "      <td>40.000000</td>\n",
       "      <td>0.027465</td>\n",
       "      <td>0.000000</td>\n",
       "    </tr>\n",
       "    <tr>\n",
       "      <th>50%</th>\n",
       "      <td>40.000000</td>\n",
       "      <td>0.027465</td>\n",
       "      <td>0.000000</td>\n",
       "    </tr>\n",
       "    <tr>\n",
       "      <th>75%</th>\n",
       "      <td>45.000000</td>\n",
       "      <td>0.027465</td>\n",
       "      <td>0.000000</td>\n",
       "    </tr>\n",
       "    <tr>\n",
       "      <th>max</th>\n",
       "      <td>99.000000</td>\n",
       "      <td>1.000000</td>\n",
       "      <td>1.000000</td>\n",
       "    </tr>\n",
       "  </tbody>\n",
       "</table>\n",
       "</div>"
      ],
      "text/plain": [
       "       average_runtime(minutes_per_week)       ratings       netgain\n",
       "count                       19536.000000  19536.000000  19536.000000\n",
       "mean                           40.375665      0.038826      0.238022\n",
       "std                            12.483166      0.075971      0.425884\n",
       "min                             1.000000      0.000000      0.000000\n",
       "25%                            40.000000      0.027465      0.000000\n",
       "50%                            40.000000      0.027465      0.000000\n",
       "75%                            45.000000      0.027465      0.000000\n",
       "max                            99.000000      1.000000      1.000000"
      ]
     },
     "execution_count": 4,
     "metadata": {},
     "output_type": "execute_result"
    }
   ],
   "source": [
    "train_df.describe()"
   ]
  },
  {
   "cell_type": "code",
   "execution_count": 5,
   "metadata": {},
   "outputs": [
    {
     "name": "stdout",
     "output_type": "stream",
     "text": [
      "<class 'pandas.core.frame.DataFrame'>\n",
      "RangeIndex: 19536 entries, 0 to 19535\n",
      "Data columns (total 12 columns):\n",
      " #   Column                             Non-Null Count  Dtype  \n",
      "---  ------                             --------------  -----  \n",
      " 0   UserID                             19536 non-null  object \n",
      " 1   realtionship_status                19536 non-null  object \n",
      " 2   industry                           19536 non-null  object \n",
      " 3   genre                              19536 non-null  object \n",
      " 4   targeted_sex                       19536 non-null  object \n",
      " 5   average_runtime(minutes_per_week)  19536 non-null  int64  \n",
      " 6   airtime                            19536 non-null  object \n",
      " 7   airlocation                        19536 non-null  object \n",
      " 8   ratings                            19536 non-null  float64\n",
      " 9   expensive                          19536 non-null  object \n",
      " 10  money_back_guarantee               19536 non-null  object \n",
      " 11  netgain                            19536 non-null  int64  \n",
      "dtypes: float64(1), int64(2), object(9)\n",
      "memory usage: 1.8+ MB\n"
     ]
    }
   ],
   "source": [
    "train_df.info()"
   ]
  },
  {
   "cell_type": "code",
   "execution_count": 6,
   "metadata": {},
   "outputs": [
    {
     "data": {
      "text/plain": [
       "array(['Married-civ-spouse', 'Never-married', 'Divorced', 'Separated',\n",
       "       'Widowed', 'Married-spouse-absent', 'Married-AF-spouse'],\n",
       "      dtype=object)"
      ]
     },
     "execution_count": 6,
     "metadata": {},
     "output_type": "execute_result"
    }
   ],
   "source": [
    "# Rename the column 'realtionship_status' to 'relationship_status' to use further it without trouble.\n",
    "train_df.rename(columns={'realtionship_status':'relationship_status'}, inplace=True)\n",
    "train_df.relationship_status.unique()"
   ]
  },
  {
   "cell_type": "code",
   "execution_count": 7,
   "metadata": {},
   "outputs": [
    {
     "data": {
      "text/plain": [
       "UserID                               0\n",
       "relationship_status                  0\n",
       "industry                             0\n",
       "genre                                0\n",
       "targeted_sex                         0\n",
       "average_runtime(minutes_per_week)    0\n",
       "airtime                              0\n",
       "airlocation                          0\n",
       "ratings                              0\n",
       "expensive                            0\n",
       "money_back_guarantee                 0\n",
       "netgain                              0\n",
       "dtype: int64"
      ]
     },
     "execution_count": 7,
     "metadata": {},
     "output_type": "execute_result"
    }
   ],
   "source": [
    "# Check for any missing data\n",
    "train_df.isnull().sum()"
   ]
  },
  {
   "cell_type": "code",
   "execution_count": 8,
   "metadata": {},
   "outputs": [
    {
     "data": {
      "image/png": "[encoded data removed]",
      "text/plain": [
       "<Figure size 432x288 with 2 Axes>"
      ]
     },
     "metadata": {
      "needs_background": "light"
     },
     "output_type": "display_data"
    }
   ],
   "source": [
    "# Let's check the correlation matrix between numerical columns\n",
    "corr = train_df.corr()\n",
    "sns.heatmap(corr, annot=True, square=True)\n",
    "plt.title(\"Correlation Matrix\", fontsize=12)\n",
    "plt.show()"
   ]
  },
  {
   "cell_type": "code",
   "execution_count": 9,
   "metadata": {
    "scrolled": true
   },
   "outputs": [
    {
     "name": "stdout",
     "output_type": "stream",
     "text": [
      "UserID  -  ['UI_9185' 'UI_449' 'UI_9014' ... 'UI_9846' 'UI_10800' 'UI_2733']\n",
      "relationship_status  -  ['Married-civ-spouse' 'Never-married' 'Divorced' 'Separated' 'Widowed'\n",
      " 'Married-spouse-absent' 'Married-AF-spouse']\n",
      "industry  -  ['Pharma' 'Political' 'Auto' 'Other' 'Entertainment' 'ClassAction']\n",
      "genre  -  ['Comedy' 'Infomercial' 'Drama' 'Direct' 'Other']\n",
      "targeted_sex  -  ['Male' 'Female']\n",
      "airtime  -  ['Daytime' 'Morning' 'Primetime']\n",
      "airlocation  -  ['United-States' 'International' 'Mexico' 'Hong' 'Cuba' 'Germany' 'India'\n",
      " 'Iran' 'Dominican-Republic' 'Philippines' 'Japan' 'Italy' 'South'\n",
      " 'Poland' 'Vietnam' 'Columbia' 'Outlying-US(Guam-USVI-etc)' 'Puerto-Rico'\n",
      " 'Hungary' 'El-Salvador' 'England' 'Taiwan' 'Canada' 'France' 'Guatemala'\n",
      " 'Thailand' 'China' 'Jamaica' 'Portugal' 'Haiti' 'Yugoslavia' 'Nicaragua'\n",
      " 'Honduras' 'Trinadad&Tobago' 'Ireland' 'Laos' 'Cambodia' 'Ecuador' 'Peru'\n",
      " 'Scotland' 'Greece' 'Holand-Netherlands']\n",
      "expensive  -  ['Medium' 'Low' 'High']\n",
      "money_back_guarantee  -  ['No' 'Yes']\n"
     ]
    }
   ],
   "source": [
    "# Check all unique values for all the categorical columns\n",
    "for col in train_df:\n",
    "    if(train_df[col].dtypes == object):\n",
    "        print(col,\" - \",train_df[col].unique())"
   ]
  },
  {
   "cell_type": "code",
   "execution_count": 10,
   "metadata": {},
   "outputs": [
    {
     "data": {
      "text/plain": [
       "array(['United-States', 'International', 'Mexico', 'Hong', 'Cuba',\n",
       "       'Germany', 'India', 'Iran', 'Dominican-Republic', 'Philippines',\n",
       "       'Japan', 'Italy', 'South', 'Poland', 'Vietnam', 'Columbia',\n",
       "       'Outlying-US(Guam-USVI-etc)', 'Puerto-Rico', 'Hungary',\n",
       "       'El-Salvador', 'England', 'Taiwan', 'Canada', 'France',\n",
       "       'Guatemala', 'Thailand', 'China', 'Jamaica', 'Portugal', 'Haiti',\n",
       "       'Yugoslavia', 'Nicaragua', 'Honduras', 'Ireland', 'Laos',\n",
       "       'Cambodia', 'Ecuador', 'Peru', 'Scotland', 'Greece',\n",
       "       'Holand-Netherlands'], dtype=object)"
      ]
     },
     "execution_count": 10,
     "metadata": {},
     "output_type": "execute_result"
    }
   ],
   "source": [
    "# Removing the entry with airlocation 'Trinadad&Tobago' as it is not in Test data, and would result in error while prediction\n",
    "train_df = train_df[train_df.airlocation != 'Trinadad&Tobago']\n",
    "train_df.airlocation.unique()"
   ]
  },
  {
   "cell_type": "markdown",
   "metadata": {},
   "source": [
    "## 3. Data Visualization <a name=\"data_visual\"></a>"
   ]
  },
  {
   "cell_type": "code",
   "execution_count": 11,
   "metadata": {},
   "outputs": [
    {
     "data": {
      "image/png": "[encoded data removed]",
      "text/plain": [
       "<Figure size 504x288 with 1 Axes>"
      ]
     },
     "metadata": {
      "needs_background": "light"
     },
     "output_type": "display_data"
    },
    {
     "name": "stdout",
     "output_type": "stream",
     "text": [
      "------------------------------------------------------------\n"
     ]
    },
    {
     "data": {
      "image/png": "[encoded data removed]",
      "text/plain": [
       "<Figure size 504x288 with 1 Axes>"
      ]
     },
     "metadata": {
      "needs_background": "light"
     },
     "output_type": "display_data"
    },
    {
     "name": "stdout",
     "output_type": "stream",
     "text": [
      "------------------------------------------------------------\n"
     ]
    },
    {
     "data": {
      "image/png": "[encoded data removed]",
      "text/plain": [
       "<Figure size 504x288 with 1 Axes>"
      ]
     },
     "metadata": {
      "needs_background": "light"
     },
     "output_type": "display_data"
    },
    {
     "name": "stdout",
     "output_type": "stream",
     "text": [
      "------------------------------------------------------------\n"
     ]
    },
    {
     "data": {
      "image/png": "[encoded data removed]",
      "text/plain": [
       "<Figure size 504x288 with 1 Axes>"
      ]
     },
     "metadata": {
      "needs_background": "light"
     },
     "output_type": "display_data"
    },
    {
     "name": "stdout",
     "output_type": "stream",
     "text": [
      "------------------------------------------------------------\n"
     ]
    },
    {
     "data": {
      "image/png": "[encoded data removed]",
      "text/plain": [
       "<Figure size 504x288 with 1 Axes>"
      ]
     },
     "metadata": {
      "needs_background": "light"
     },
     "output_type": "display_data"
    }
   ],
   "source": [
    "# Compare netgain distribution based on different categorical columns\n",
    "\n",
    "plt.figure(figsize=(7,4))\n",
    "sns.countplot(train_df.genre, hue=train_df.netgain, palette=\"nipy_spectral\")\n",
    "plt.title(\"Netgain scores based on Genres\", fontsize=16)\n",
    "plt.show()\n",
    "print(\"---\"*20)\n",
    "\n",
    "plt.figure(figsize=(7,4))\n",
    "sns.countplot(train_df.industry, hue=train_df.netgain, palette=\"nipy_spectral\")\n",
    "plt.title(\"Netgain scores based on Industry\", fontsize=16)\n",
    "plt.show()\n",
    "print(\"---\"*20)\n",
    "\n",
    "plt.figure(figsize=(7,4))\n",
    "sns.countplot(train_df.targeted_sex, hue=train_df.netgain, palette=\"nipy_spectral\")\n",
    "plt.title(\"Netgain scores based on Sex\", fontsize=16)\n",
    "plt.show()\n",
    "print(\"---\"*20)\n",
    "\n",
    "plt.figure(figsize=(7,4))\n",
    "sns.countplot(train_df.expensive, hue=train_df.netgain, palette=\"nipy_spectral\")\n",
    "plt.title(\"Netgain scores based on Expense\", fontsize=16)\n",
    "plt.show()\n",
    "print(\"---\"*20)\n",
    "\n",
    "plt.figure(figsize=(7,4))\n",
    "sns.countplot(train_df.money_back_guarantee, hue=train_df.netgain, palette=\"nipy_spectral\")\n",
    "plt.title(\"Netgain scores based on Money Back Guarantee\", fontsize=16)\n",
    "plt.show()"
   ]
  },
  {
   "cell_type": "code",
   "execution_count": 12,
   "metadata": {},
   "outputs": [
    {
     "data": {
      "image/png": "[encoded data removed]",
      "text/plain": [
       "<Figure size 838.125x360 with 1 Axes>"
      ]
     },
     "metadata": {
      "needs_background": "light"
     },
     "output_type": "display_data"
    }
   ],
   "source": [
    "sns.catplot(data=train_df, x='relationship_status', y='average_runtime(minutes_per_week)', hue='netgain', \n",
    "            palette=\"prism_r\" , kind='violin', aspect=2.2)\n",
    "plt.title(\"Average Runtime(in minutes) per week based on relationship status\", fontsize=16)\n",
    "plt.show()"
   ]
  },
  {
   "cell_type": "code",
   "execution_count": 13,
   "metadata": {},
   "outputs": [
    {
     "data": {
      "image/png": "[encoded data removed]",
      "text/plain": [
       "<Figure size 792x360 with 1 Axes>"
      ]
     },
     "metadata": {
      "needs_background": "light"
     },
     "output_type": "display_data"
    }
   ],
   "source": [
    "sns.catplot(x='airtime', y='average_runtime(minutes_per_week)', data=train_df, kind='violin', aspect=2.2)\n",
    "plt.title(\"Average Runtime(in minutes) per week based on Airtime\", fontsize=16)\n",
    "plt.show()"
   ]
  },
  {
   "cell_type": "code",
   "execution_count": 14,
   "metadata": {},
   "outputs": [
    {
     "data": {
      "image/png": "[encoded data removed]",
      "text/plain": [
       "<Figure size 576x720 with 1 Axes>"
      ]
     },
     "metadata": {
      "needs_background": "light"
     },
     "output_type": "display_data"
    }
   ],
   "source": [
    "plt.figure(figsize=(8,10))\n",
    "plt.scatter(x = train_df['ratings'], y = train_df['airlocation'], color=\"coral\")\n",
    "plt.title(\"Ratings distribution based on different Airlocations\")\n",
    "plt.grid()\n",
    "plt.ylabel('Airlocation')\n",
    "plt.xlabel('Ratings')\n",
    "plt.show()"
   ]
  },
  {
   "cell_type": "markdown",
   "metadata": {},
   "source": [
    "## 4. Encoding Categorical to Numerical  <a name=\"encoding_train\"></a>"
   ]
  },
  {
   "cell_type": "code",
   "execution_count": 15,
   "metadata": {},
   "outputs": [
    {
     "data": {
      "text/html": [
       "<div>\n",
       "<style scoped>\n",
       "    .dataframe tbody tr th:only-of-type {\n",
       "        vertical-align: middle;\n",
       "    }\n",
       "\n",
       "    .dataframe tbody tr th {\n",
       "        vertical-align: top;\n",
       "    }\n",
       "\n",
       "    .dataframe thead th {\n",
       "        text-align: right;\n",
       "    }\n",
       "</style>\n",
       "<table border=\"1\" class=\"dataframe\">\n",
       "  <thead>\n",
       "    <tr style=\"text-align: right;\">\n",
       "      <th></th>\n",
       "      <th>average_runtime(minutes_per_week)</th>\n",
       "      <th>ratings</th>\n",
       "      <th>netgain</th>\n",
       "      <th>relationship_status_Divorced</th>\n",
       "      <th>relationship_status_Married-AF-spouse</th>\n",
       "      <th>relationship_status_Married-civ-spouse</th>\n",
       "      <th>relationship_status_Married-spouse-absent</th>\n",
       "      <th>relationship_status_Never-married</th>\n",
       "      <th>relationship_status_Separated</th>\n",
       "      <th>relationship_status_Widowed</th>\n",
       "      <th>...</th>\n",
       "      <th>airlocation_Taiwan</th>\n",
       "      <th>airlocation_Thailand</th>\n",
       "      <th>airlocation_United-States</th>\n",
       "      <th>airlocation_Vietnam</th>\n",
       "      <th>airlocation_Yugoslavia</th>\n",
       "      <th>expensive_High</th>\n",
       "      <th>expensive_Low</th>\n",
       "      <th>expensive_Medium</th>\n",
       "      <th>money_back_guarantee_No</th>\n",
       "      <th>money_back_guarantee_Yes</th>\n",
       "    </tr>\n",
       "  </thead>\n",
       "  <tbody>\n",
       "    <tr>\n",
       "      <th>0</th>\n",
       "      <td>40</td>\n",
       "      <td>0.027465</td>\n",
       "      <td>0</td>\n",
       "      <td>0</td>\n",
       "      <td>0</td>\n",
       "      <td>1</td>\n",
       "      <td>0</td>\n",
       "      <td>0</td>\n",
       "      <td>0</td>\n",
       "      <td>0</td>\n",
       "      <td>...</td>\n",
       "      <td>0</td>\n",
       "      <td>0</td>\n",
       "      <td>1</td>\n",
       "      <td>0</td>\n",
       "      <td>0</td>\n",
       "      <td>0</td>\n",
       "      <td>0</td>\n",
       "      <td>1</td>\n",
       "      <td>1</td>\n",
       "      <td>0</td>\n",
       "    </tr>\n",
       "    <tr>\n",
       "      <th>1</th>\n",
       "      <td>35</td>\n",
       "      <td>0.027465</td>\n",
       "      <td>0</td>\n",
       "      <td>0</td>\n",
       "      <td>0</td>\n",
       "      <td>0</td>\n",
       "      <td>0</td>\n",
       "      <td>1</td>\n",
       "      <td>0</td>\n",
       "      <td>0</td>\n",
       "      <td>...</td>\n",
       "      <td>0</td>\n",
       "      <td>0</td>\n",
       "      <td>0</td>\n",
       "      <td>0</td>\n",
       "      <td>0</td>\n",
       "      <td>0</td>\n",
       "      <td>1</td>\n",
       "      <td>0</td>\n",
       "      <td>1</td>\n",
       "      <td>0</td>\n",
       "    </tr>\n",
       "    <tr>\n",
       "      <th>2</th>\n",
       "      <td>40</td>\n",
       "      <td>0.027465</td>\n",
       "      <td>0</td>\n",
       "      <td>0</td>\n",
       "      <td>0</td>\n",
       "      <td>0</td>\n",
       "      <td>0</td>\n",
       "      <td>1</td>\n",
       "      <td>0</td>\n",
       "      <td>0</td>\n",
       "      <td>...</td>\n",
       "      <td>0</td>\n",
       "      <td>0</td>\n",
       "      <td>1</td>\n",
       "      <td>0</td>\n",
       "      <td>0</td>\n",
       "      <td>0</td>\n",
       "      <td>1</td>\n",
       "      <td>0</td>\n",
       "      <td>1</td>\n",
       "      <td>0</td>\n",
       "    </tr>\n",
       "    <tr>\n",
       "      <th>3</th>\n",
       "      <td>40</td>\n",
       "      <td>0.027465</td>\n",
       "      <td>0</td>\n",
       "      <td>0</td>\n",
       "      <td>0</td>\n",
       "      <td>1</td>\n",
       "      <td>0</td>\n",
       "      <td>0</td>\n",
       "      <td>0</td>\n",
       "      <td>0</td>\n",
       "      <td>...</td>\n",
       "      <td>0</td>\n",
       "      <td>0</td>\n",
       "      <td>1</td>\n",
       "      <td>0</td>\n",
       "      <td>0</td>\n",
       "      <td>0</td>\n",
       "      <td>1</td>\n",
       "      <td>0</td>\n",
       "      <td>0</td>\n",
       "      <td>1</td>\n",
       "    </tr>\n",
       "    <tr>\n",
       "      <th>4</th>\n",
       "      <td>50</td>\n",
       "      <td>0.027465</td>\n",
       "      <td>1</td>\n",
       "      <td>0</td>\n",
       "      <td>0</td>\n",
       "      <td>1</td>\n",
       "      <td>0</td>\n",
       "      <td>0</td>\n",
       "      <td>0</td>\n",
       "      <td>0</td>\n",
       "      <td>...</td>\n",
       "      <td>0</td>\n",
       "      <td>0</td>\n",
       "      <td>1</td>\n",
       "      <td>0</td>\n",
       "      <td>0</td>\n",
       "      <td>0</td>\n",
       "      <td>1</td>\n",
       "      <td>0</td>\n",
       "      <td>0</td>\n",
       "      <td>1</td>\n",
       "    </tr>\n",
       "  </tbody>\n",
       "</table>\n",
       "<p>5 rows × 72 columns</p>\n",
       "</div>"
      ],
      "text/plain": [
       "   average_runtime(minutes_per_week)   ratings  netgain  \\\n",
       "0                                 40  0.027465        0   \n",
       "1                                 35  0.027465        0   \n",
       "2                                 40  0.027465        0   \n",
       "3                                 40  0.027465        0   \n",
       "4                                 50  0.027465        1   \n",
       "\n",
       "   relationship_status_Divorced  relationship_status_Married-AF-spouse  \\\n",
       "0                             0                                      0   \n",
       "1                             0                                      0   \n",
       "2                             0                                      0   \n",
       "3                             0                                      0   \n",
       "4                             0                                      0   \n",
       "\n",
       "   relationship_status_Married-civ-spouse  \\\n",
       "0                                       1   \n",
       "1                                       0   \n",
       "2                                       0   \n",
       "3                                       1   \n",
       "4                                       1   \n",
       "\n",
       "   relationship_status_Married-spouse-absent  \\\n",
       "0                                          0   \n",
       "1                                          0   \n",
       "2                                          0   \n",
       "3                                          0   \n",
       "4                                          0   \n",
       "\n",
       "   relationship_status_Never-married  relationship_status_Separated  \\\n",
       "0                                  0                              0   \n",
       "1                                  1                              0   \n",
       "2                                  1                              0   \n",
       "3                                  0                              0   \n",
       "4                                  0                              0   \n",
       "\n",
       "   relationship_status_Widowed  ...  airlocation_Taiwan  airlocation_Thailand  \\\n",
       "0                            0  ...                   0                     0   \n",
       "1                            0  ...                   0                     0   \n",
       "2                            0  ...                   0                     0   \n",
       "3                            0  ...                   0                     0   \n",
       "4                            0  ...                   0                     0   \n",
       "\n",
       "   airlocation_United-States  airlocation_Vietnam  airlocation_Yugoslavia  \\\n",
       "0                          1                    0                       0   \n",
       "1                          0                    0                       0   \n",
       "2                          1                    0                       0   \n",
       "3                          1                    0                       0   \n",
       "4                          1                    0                       0   \n",
       "\n",
       "   expensive_High  expensive_Low  expensive_Medium  money_back_guarantee_No  \\\n",
       "0               0              0                 1                        1   \n",
       "1               0              1                 0                        1   \n",
       "2               0              1                 0                        1   \n",
       "3               0              1                 0                        0   \n",
       "4               0              1                 0                        0   \n",
       "\n",
       "   money_back_guarantee_Yes  \n",
       "0                         0  \n",
       "1                         0  \n",
       "2                         0  \n",
       "3                         1  \n",
       "4                         1  \n",
       "\n",
       "[5 rows x 72 columns]"
      ]
     },
     "execution_count": 15,
     "metadata": {},
     "output_type": "execute_result"
    }
   ],
   "source": [
    "# Lets convert the categorical columns into numeric to prepare data for model building\n",
    "dummy_df = pd.get_dummies(train_df.drop(['UserID'], axis=1))\n",
    "dummy_df.head()"
   ]
  },
  {
   "cell_type": "code",
   "execution_count": 16,
   "metadata": {},
   "outputs": [
    {
     "name": "stdout",
     "output_type": "stream",
     "text": [
      "(19519, 71) (19519,)\n"
     ]
    }
   ],
   "source": [
    "independent = dummy_df.drop(['netgain'], axis=1)\n",
    "dependent = dummy_df['netgain']\n",
    "print(independent.shape, dependent.shape)"
   ]
  },
  {
   "cell_type": "markdown",
   "metadata": {},
   "source": [
    "## 5. Splitting the data using train_test_split <a name=\"splitting\"></a>"
   ]
  },
  {
   "cell_type": "code",
   "execution_count": 17,
   "metadata": {},
   "outputs": [],
   "source": [
    "x_train,x_val,y_train,y_val=train_test_split(independent,dependent,test_size=0.3,random_state=1234)"
   ]
  },
  {
   "cell_type": "markdown",
   "metadata": {},
   "source": [
    "## 6. Model Building <a name=\"model_building\"></a>\n",
    "We will be using **Logistic Regression, Decision-Tree Classifier and CatBoostRegressor** to get accuracy and F1 scores and select the best one out for building our model on test data."
   ]
  },
  {
   "cell_type": "markdown",
   "metadata": {},
   "source": [
    "### 6.1. Logistic Regression <a name=\"logistic_regression\"></a>"
   ]
  },
  {
   "cell_type": "code",
   "execution_count": 18,
   "metadata": {},
   "outputs": [
    {
     "data": {
      "text/plain": [
       "LogisticRegression()"
      ]
     },
     "execution_count": 18,
     "metadata": {},
     "output_type": "execute_result"
    }
   ],
   "source": [
    "logreg = LogisticRegression()\n",
    "logreg.fit(x_train, y_train)"
   ]
  },
  {
   "cell_type": "markdown",
   "metadata": {},
   "source": [
    "#### Accuracy Score"
   ]
  },
  {
   "cell_type": "code",
   "execution_count": 19,
   "metadata": {},
   "outputs": [
    {
     "name": "stdout",
     "output_type": "stream",
     "text": [
      "Accuracy score on train data: 0.8013613408475445\n"
     ]
    }
   ],
   "source": [
    "# Let's calculate the accuracy score on train data\n",
    "log_train_pred = logreg.predict(x_train)\n",
    "log_train_score= accuracy_score(y_train,log_train_pred)\n",
    "print('Accuracy score on train data:',log_train_score)"
   ]
  },
  {
   "cell_type": "code",
   "execution_count": 20,
   "metadata": {},
   "outputs": [
    {
     "name": "stdout",
     "output_type": "stream",
     "text": [
      "Accuracy score on validation data : 0.8054986338797814\n"
     ]
    }
   ],
   "source": [
    "# Let's calculate the accuracy score on validation data\n",
    "log_val_pred = logreg.predict(x_val)\n",
    "log_val_score= accuracy_score(y_val,log_val_pred)\n",
    "print('Accuracy score on validation data :',log_val_score)"
   ]
  },
  {
   "cell_type": "markdown",
   "metadata": {},
   "source": [
    "#### F1 Score"
   ]
  },
  {
   "cell_type": "code",
   "execution_count": 21,
   "metadata": {},
   "outputs": [
    {
     "name": "stdout",
     "output_type": "stream",
     "text": [
      "F1 score on train data :  0.4951636904761906\n"
     ]
    }
   ],
   "source": [
    "# Calculate the F1 Score on train data\n",
    "f1_train = f1_score(y_train, log_train_pred)\n",
    "print(\"F1 score on train data : \", f1_train)"
   ]
  },
  {
   "cell_type": "code",
   "execution_count": 22,
   "metadata": {},
   "outputs": [
    {
     "name": "stdout",
     "output_type": "stream",
     "text": [
      "F1 score on validation data :  0.4966858152894388\n"
     ]
    }
   ],
   "source": [
    "# Calculate the F1 score on validation data\n",
    "f1_val = f1_score(y_val, log_val_pred)\n",
    "print(\"F1 score on validation data : \", f1_val)"
   ]
  },
  {
   "cell_type": "markdown",
   "metadata": {},
   "source": [
    "### 6.2. Decision Tree Classifier <a name=\"decision_tree_classifier\"></a>"
   ]
  },
  {
   "cell_type": "code",
   "execution_count": 23,
   "metadata": {},
   "outputs": [
    {
     "data": {
      "text/plain": [
       "DecisionTreeClassifier()"
      ]
     },
     "execution_count": 23,
     "metadata": {},
     "output_type": "execute_result"
    }
   ],
   "source": [
    "dtc = DecisionTreeClassifier()\n",
    "dtc.fit(x_train, y_train)"
   ]
  },
  {
   "cell_type": "markdown",
   "metadata": {},
   "source": [
    "#### Accuracy Score"
   ]
  },
  {
   "cell_type": "code",
   "execution_count": 24,
   "metadata": {},
   "outputs": [
    {
     "name": "stdout",
     "output_type": "stream",
     "text": [
      "Accuracy score on train data : 0.8684769084388494\n"
     ]
    }
   ],
   "source": [
    "dtc_train_pred = dtc.predict(x_train)\n",
    "dtc_train_score= accuracy_score(y_train,dtc_train_pred)\n",
    "print('Accuracy score on train data :',dtc_train_score)"
   ]
  },
  {
   "cell_type": "code",
   "execution_count": 25,
   "metadata": {},
   "outputs": [
    {
     "name": "stdout",
     "output_type": "stream",
     "text": [
      "Accuracy score on validation data :  0.7935450819672131\n"
     ]
    }
   ],
   "source": [
    "dtc_val_pred = dtc.predict(x_val)\n",
    "dtc_val_score = accuracy_score(y_val, dtc_val_pred)\n",
    "print('Accuracy score on validation data : ', dtc_val_score)"
   ]
  },
  {
   "cell_type": "markdown",
   "metadata": {},
   "source": [
    "#### F1 Score"
   ]
  },
  {
   "cell_type": "code",
   "execution_count": 26,
   "metadata": {},
   "outputs": [
    {
     "name": "stdout",
     "output_type": "stream",
     "text": [
      "F1 score on train data :  0.6920308483290489\n"
     ]
    }
   ],
   "source": [
    "f1_train = f1_score(y_train, dtc_train_pred)\n",
    "print(\"F1 score on train data : \", f1_train)"
   ]
  },
  {
   "cell_type": "code",
   "execution_count": 27,
   "metadata": {},
   "outputs": [
    {
     "name": "stdout",
     "output_type": "stream",
     "text": [
      "F1 score on validation data :  0.5204284014280047\n"
     ]
    }
   ],
   "source": [
    "f1_val = f1_score(y_val, dtc_val_pred)\n",
    "print(\"F1 score on validation data : \", f1_val)"
   ]
  },
  {
   "cell_type": "markdown",
   "metadata": {},
   "source": [
    "### 6.3. Using CatBoostClassifier <a name=\"catboost_classifier\"></a>"
   ]
  },
  {
   "cell_type": "code",
   "execution_count": 28,
   "metadata": {},
   "outputs": [],
   "source": [
    "cbr = CatBoostClassifier(eval_metric='AUC', learning_rate=1, iterations=50)"
   ]
  },
  {
   "cell_type": "code",
   "execution_count": 29,
   "metadata": {},
   "outputs": [
    {
     "name": "stdout",
     "output_type": "stream",
     "text": [
      "0:\ttotal: 222ms\tremaining: 10.9s\n",
      "1:\ttotal: 255ms\tremaining: 6.11s\n",
      "2:\ttotal: 278ms\tremaining: 4.36s\n",
      "3:\ttotal: 294ms\tremaining: 3.38s\n",
      "4:\ttotal: 311ms\tremaining: 2.8s\n",
      "5:\ttotal: 353ms\tremaining: 2.59s\n",
      "6:\ttotal: 381ms\tremaining: 2.34s\n",
      "7:\ttotal: 415ms\tremaining: 2.18s\n",
      "8:\ttotal: 437ms\tremaining: 1.99s\n",
      "9:\ttotal: 462ms\tremaining: 1.85s\n",
      "10:\ttotal: 530ms\tremaining: 1.88s\n",
      "11:\ttotal: 552ms\tremaining: 1.75s\n",
      "12:\ttotal: 599ms\tremaining: 1.7s\n",
      "13:\ttotal: 628ms\tremaining: 1.61s\n",
      "14:\ttotal: 661ms\tremaining: 1.54s\n",
      "15:\ttotal: 703ms\tremaining: 1.49s\n",
      "16:\ttotal: 756ms\tremaining: 1.47s\n",
      "17:\ttotal: 793ms\tremaining: 1.41s\n",
      "18:\ttotal: 825ms\tremaining: 1.34s\n",
      "19:\ttotal: 867ms\tremaining: 1.3s\n",
      "20:\ttotal: 918ms\tremaining: 1.27s\n",
      "21:\ttotal: 942ms\tremaining: 1.2s\n",
      "22:\ttotal: 973ms\tremaining: 1.14s\n",
      "23:\ttotal: 1.01s\tremaining: 1.09s\n",
      "24:\ttotal: 1.06s\tremaining: 1.06s\n",
      "25:\ttotal: 1.09s\tremaining: 1s\n",
      "26:\ttotal: 1.14s\tremaining: 969ms\n",
      "27:\ttotal: 1.19s\tremaining: 931ms\n",
      "28:\ttotal: 1.26s\tremaining: 910ms\n",
      "29:\ttotal: 1.29s\tremaining: 863ms\n",
      "30:\ttotal: 1.32s\tremaining: 813ms\n",
      "31:\ttotal: 1.38s\tremaining: 775ms\n",
      "32:\ttotal: 1.41s\tremaining: 724ms\n",
      "33:\ttotal: 1.45s\tremaining: 681ms\n",
      "34:\ttotal: 1.48s\tremaining: 633ms\n",
      "35:\ttotal: 1.51s\tremaining: 586ms\n",
      "36:\ttotal: 1.55s\tremaining: 546ms\n",
      "37:\ttotal: 1.58s\tremaining: 498ms\n",
      "38:\ttotal: 1.61s\tremaining: 455ms\n",
      "39:\ttotal: 1.66s\tremaining: 415ms\n",
      "40:\ttotal: 1.73s\tremaining: 380ms\n",
      "41:\ttotal: 1.78s\tremaining: 339ms\n",
      "42:\ttotal: 1.82s\tremaining: 296ms\n",
      "43:\ttotal: 1.87s\tremaining: 255ms\n",
      "44:\ttotal: 1.91s\tremaining: 212ms\n",
      "45:\ttotal: 2.06s\tremaining: 179ms\n",
      "46:\ttotal: 2.09s\tremaining: 133ms\n",
      "47:\ttotal: 2.12s\tremaining: 88.2ms\n",
      "48:\ttotal: 2.14s\tremaining: 43.8ms\n",
      "49:\ttotal: 2.17s\tremaining: 0us\n"
     ]
    },
    {
     "data": {
      "text/plain": [
       "<catboost.core.CatBoostClassifier at 0x17f0a8b12e0>"
      ]
     },
     "execution_count": 29,
     "metadata": {},
     "output_type": "execute_result"
    }
   ],
   "source": [
    "cbr.fit(x_train, y_train)"
   ]
  },
  {
   "cell_type": "markdown",
   "metadata": {},
   "source": [
    "#### Accuracy Score"
   ]
  },
  {
   "cell_type": "code",
   "execution_count": 30,
   "metadata": {},
   "outputs": [
    {
     "name": "stdout",
     "output_type": "stream",
     "text": [
      "Accuracy score on train data : 0.8410305203835176\n"
     ]
    }
   ],
   "source": [
    "cbr_train_pred = cbr.predict(x_train)\n",
    "cbr_train_score= accuracy_score(y_train,cbr_train_pred)\n",
    "print('Accuracy score on train data :',cbr_train_score)"
   ]
  },
  {
   "cell_type": "code",
   "execution_count": 31,
   "metadata": {},
   "outputs": [
    {
     "name": "stdout",
     "output_type": "stream",
     "text": [
      "Accuracy score on validation data : 0.8114754098360656\n"
     ]
    }
   ],
   "source": [
    "cbr_val_pred = cbr.predict(x_val)\n",
    "cbr_val_score= accuracy_score(y_val,cbr_val_pred)\n",
    "print('Accuracy score on validation data :',cbr_val_score)"
   ]
  },
  {
   "cell_type": "markdown",
   "metadata": {},
   "source": [
    "#### F1 Score"
   ]
  },
  {
   "cell_type": "code",
   "execution_count": 32,
   "metadata": {},
   "outputs": [
    {
     "name": "stdout",
     "output_type": "stream",
     "text": [
      "F1 score on train data :  0.6142095914742451\n"
     ]
    }
   ],
   "source": [
    "f1_train = f1_score(y_train, cbr_train_pred)\n",
    "print(\"F1 score on train data : \", f1_train)"
   ]
  },
  {
   "cell_type": "code",
   "execution_count": 33,
   "metadata": {},
   "outputs": [
    {
     "name": "stdout",
     "output_type": "stream",
     "text": [
      "F1 score validation data :  0.5337837837837838\n"
     ]
    }
   ],
   "source": [
    "f1_val = f1_score(y_val, cbr_val_pred)\n",
    "print(\"F1 score validation data : \", f1_val)"
   ]
  },
  {
   "cell_type": "markdown",
   "metadata": {},
   "source": [
    "### 6.4. XGBoostClassifier <a name=\"xgboost_classifier\"></a>"
   ]
  },
  {
   "cell_type": "code",
   "execution_count": 34,
   "metadata": {},
   "outputs": [],
   "source": [
    "xgboost = xgb.XGBClassifier(max_depth=3,learning_rate=0.1)"
   ]
  },
  {
   "cell_type": "code",
   "execution_count": 35,
   "metadata": {},
   "outputs": [
    {
     "data": {
      "text/plain": [
       "XGBClassifier(base_score=0.5, booster='gbtree', colsample_bylevel=1,\n",
       "              colsample_bynode=1, colsample_bytree=1, gamma=0, gpu_id=-1,\n",
       "              importance_type='gain', interaction_constraints='',\n",
       "              learning_rate=0.1, max_delta_step=0, max_depth=3,\n",
       "              min_child_weight=1, missing=nan, monotone_constraints='()',\n",
       "              n_estimators=100, n_jobs=0, num_parallel_tree=1, random_state=0,\n",
       "              reg_alpha=0, reg_lambda=1, scale_pos_weight=1, subsample=1,\n",
       "              tree_method='exact', validate_parameters=1, verbosity=None)"
      ]
     },
     "execution_count": 35,
     "metadata": {},
     "output_type": "execute_result"
    }
   ],
   "source": [
    "xgboost.fit(x_train, y_train)"
   ]
  },
  {
   "cell_type": "markdown",
   "metadata": {},
   "source": [
    "#### Accuracy Score"
   ]
  },
  {
   "cell_type": "code",
   "execution_count": 36,
   "metadata": {},
   "outputs": [
    {
     "name": "stdout",
     "output_type": "stream",
     "text": [
      "Accuracy score on train data : 0.8206104076703505\n"
     ]
    }
   ],
   "source": [
    "xgb_train_pred = xgboost.predict(x_train)\n",
    "xgb_train_score= accuracy_score(y_train,xgb_train_pred)\n",
    "print('Accuracy score on train data :',xgb_train_score)"
   ]
  },
  {
   "cell_type": "code",
   "execution_count": 37,
   "metadata": {},
   "outputs": [
    {
     "name": "stdout",
     "output_type": "stream",
     "text": [
      "Accuracy score on validation data :  0.820525956284153\n"
     ]
    }
   ],
   "source": [
    "xgb_val_pred = xgboost.predict(x_val)\n",
    "xgb_val_score = accuracy_score(y_val, xgb_val_pred)\n",
    "print('Accuracy score on validation data : ', xgb_val_score)"
   ]
  },
  {
   "cell_type": "markdown",
   "metadata": {},
   "source": [
    "#### F1 Score"
   ]
  },
  {
   "cell_type": "code",
   "execution_count": 38,
   "metadata": {},
   "outputs": [
    {
     "name": "stdout",
     "output_type": "stream",
     "text": [
      "F1 score on train data :  0.547201182338814\n"
     ]
    }
   ],
   "source": [
    "f1_train = f1_score(y_train, xgb_train_pred)\n",
    "print(\"F1 score on train data : \", f1_train)"
   ]
  },
  {
   "cell_type": "code",
   "execution_count": 39,
   "metadata": {},
   "outputs": [
    {
     "name": "stdout",
     "output_type": "stream",
     "text": [
      "F1 score on validation data :  0.5444299956653662\n"
     ]
    }
   ],
   "source": [
    "f1_val = f1_score(y_val, xgb_val_pred)\n",
    "print(\"F1 score on validation data : \", f1_val)"
   ]
  },
  {
   "cell_type": "markdown",
   "metadata": {},
   "source": [
    "## 7. Metrics Comparison <a name=\"metrics_comparison\"></a>\n",
    "\n",
    "As we can notice from the above tables, **XGBoost has resulted in better Accuracy Scores and Best F1 scores** with the least variation between training and validation data.<br>\n",
    "\n",
    "***So, we can proceed with XGBoost Classifier to predict the 'netgain' in our Test dataset***"
   ]
  },
  {
   "cell_type": "markdown",
   "metadata": {},
   "source": [
    "## 8. Read and Encode the test data <a name=\"read_test_data\"></a>"
   ]
  },
  {
   "cell_type": "code",
   "execution_count": 40,
   "metadata": {
    "scrolled": true
   },
   "outputs": [
    {
     "data": {
      "text/html": [
       "<div>\n",
       "<style scoped>\n",
       "    .dataframe tbody tr th:only-of-type {\n",
       "        vertical-align: middle;\n",
       "    }\n",
       "\n",
       "    .dataframe tbody tr th {\n",
       "        vertical-align: top;\n",
       "    }\n",
       "\n",
       "    .dataframe thead th {\n",
       "        text-align: right;\n",
       "    }\n",
       "</style>\n",
       "<table border=\"1\" class=\"dataframe\">\n",
       "  <thead>\n",
       "    <tr style=\"text-align: right;\">\n",
       "      <th></th>\n",
       "      <th>UserID</th>\n",
       "      <th>realtionship_status</th>\n",
       "      <th>industry</th>\n",
       "      <th>genre</th>\n",
       "      <th>targeted_sex</th>\n",
       "      <th>average_runtime(minutes_per_week)</th>\n",
       "      <th>airtime</th>\n",
       "      <th>airlocation</th>\n",
       "      <th>ratings</th>\n",
       "      <th>expensive</th>\n",
       "      <th>money_back_guarantee</th>\n",
       "    </tr>\n",
       "  </thead>\n",
       "  <tbody>\n",
       "    <tr>\n",
       "      <th>0</th>\n",
       "      <td>UI_8772</td>\n",
       "      <td>Never-married</td>\n",
       "      <td>Entertainment</td>\n",
       "      <td>Infomercial</td>\n",
       "      <td>Female</td>\n",
       "      <td>40</td>\n",
       "      <td>Primetime</td>\n",
       "      <td>United-States</td>\n",
       "      <td>0.027465</td>\n",
       "      <td>High</td>\n",
       "      <td>Yes</td>\n",
       "    </tr>\n",
       "    <tr>\n",
       "      <th>1</th>\n",
       "      <td>UI_13139</td>\n",
       "      <td>Divorced</td>\n",
       "      <td>Auto</td>\n",
       "      <td>Comedy</td>\n",
       "      <td>Female</td>\n",
       "      <td>40</td>\n",
       "      <td>Primetime</td>\n",
       "      <td>United-States</td>\n",
       "      <td>0.027465</td>\n",
       "      <td>Low</td>\n",
       "      <td>No</td>\n",
       "    </tr>\n",
       "    <tr>\n",
       "      <th>2</th>\n",
       "      <td>UI_15381</td>\n",
       "      <td>Married-civ-spouse</td>\n",
       "      <td>Pharma</td>\n",
       "      <td>Infomercial</td>\n",
       "      <td>Male</td>\n",
       "      <td>40</td>\n",
       "      <td>Primetime</td>\n",
       "      <td>United-States</td>\n",
       "      <td>0.027465</td>\n",
       "      <td>High</td>\n",
       "      <td>No</td>\n",
       "    </tr>\n",
       "    <tr>\n",
       "      <th>3</th>\n",
       "      <td>UI_15503</td>\n",
       "      <td>Never-married</td>\n",
       "      <td>Auto</td>\n",
       "      <td>Comedy</td>\n",
       "      <td>Male</td>\n",
       "      <td>30</td>\n",
       "      <td>Primetime</td>\n",
       "      <td>United-States</td>\n",
       "      <td>0.027465</td>\n",
       "      <td>High</td>\n",
       "      <td>Yes</td>\n",
       "    </tr>\n",
       "    <tr>\n",
       "      <th>4</th>\n",
       "      <td>UI_16556</td>\n",
       "      <td>Never-married</td>\n",
       "      <td>Political</td>\n",
       "      <td>Comedy</td>\n",
       "      <td>Male</td>\n",
       "      <td>70</td>\n",
       "      <td>Morning</td>\n",
       "      <td>United-States</td>\n",
       "      <td>0.027465</td>\n",
       "      <td>Low</td>\n",
       "      <td>No</td>\n",
       "    </tr>\n",
       "  </tbody>\n",
       "</table>\n",
       "</div>"
      ],
      "text/plain": [
       "     UserID realtionship_status       industry        genre targeted_sex  \\\n",
       "0   UI_8772       Never-married  Entertainment  Infomercial       Female   \n",
       "1  UI_13139            Divorced           Auto       Comedy       Female   \n",
       "2  UI_15381  Married-civ-spouse         Pharma  Infomercial         Male   \n",
       "3  UI_15503       Never-married           Auto       Comedy         Male   \n",
       "4  UI_16556       Never-married      Political       Comedy         Male   \n",
       "\n",
       "   average_runtime(minutes_per_week)    airtime    airlocation   ratings  \\\n",
       "0                                 40  Primetime  United-States  0.027465   \n",
       "1                                 40  Primetime  United-States  0.027465   \n",
       "2                                 40  Primetime  United-States  0.027465   \n",
       "3                                 30  Primetime  United-States  0.027465   \n",
       "4                                 70    Morning  United-States  0.027465   \n",
       "\n",
       "  expensive money_back_guarantee  \n",
       "0      High                  Yes  \n",
       "1       Low                   No  \n",
       "2      High                   No  \n",
       "3      High                  Yes  \n",
       "4       Low                   No  "
      ]
     },
     "execution_count": 40,
     "metadata": {},
     "output_type": "execute_result"
    }
   ],
   "source": [
    "test_df = pd.read_csv(\"data/test.csv\")\n",
    "test_df.head()\n"
   ]
  },
  {
   "cell_type": "code",
   "execution_count": 41,
   "metadata": {},
   "outputs": [],
   "source": [
    "# Rename the column 'realtionship_status' to 'relationship_status' to use further it without trouble.\n",
    "test_df.rename(columns={'realtionship_status':'relationship_status'}, inplace=True)"
   ]
  },
  {
   "cell_type": "code",
   "execution_count": 42,
   "metadata": {
    "scrolled": true
   },
   "outputs": [
    {
     "data": {
      "text/html": [
       "<div>\n",
       "<style scoped>\n",
       "    .dataframe tbody tr th:only-of-type {\n",
       "        vertical-align: middle;\n",
       "    }\n",
       "\n",
       "    .dataframe tbody tr th {\n",
       "        vertical-align: top;\n",
       "    }\n",
       "\n",
       "    .dataframe thead th {\n",
       "        text-align: right;\n",
       "    }\n",
       "</style>\n",
       "<table border=\"1\" class=\"dataframe\">\n",
       "  <thead>\n",
       "    <tr style=\"text-align: right;\">\n",
       "      <th></th>\n",
       "      <th>average_runtime(minutes_per_week)</th>\n",
       "      <th>ratings</th>\n",
       "      <th>relationship_status_Divorced</th>\n",
       "      <th>relationship_status_Married-AF-spouse</th>\n",
       "      <th>relationship_status_Married-civ-spouse</th>\n",
       "      <th>relationship_status_Married-spouse-absent</th>\n",
       "      <th>relationship_status_Never-married</th>\n",
       "      <th>relationship_status_Separated</th>\n",
       "      <th>relationship_status_Widowed</th>\n",
       "      <th>industry_Auto</th>\n",
       "      <th>...</th>\n",
       "      <th>airlocation_Taiwan</th>\n",
       "      <th>airlocation_Thailand</th>\n",
       "      <th>airlocation_United-States</th>\n",
       "      <th>airlocation_Vietnam</th>\n",
       "      <th>airlocation_Yugoslavia</th>\n",
       "      <th>expensive_High</th>\n",
       "      <th>expensive_Low</th>\n",
       "      <th>expensive_Medium</th>\n",
       "      <th>money_back_guarantee_No</th>\n",
       "      <th>money_back_guarantee_Yes</th>\n",
       "    </tr>\n",
       "  </thead>\n",
       "  <tbody>\n",
       "    <tr>\n",
       "      <th>0</th>\n",
       "      <td>40</td>\n",
       "      <td>0.027465</td>\n",
       "      <td>0</td>\n",
       "      <td>0</td>\n",
       "      <td>0</td>\n",
       "      <td>0</td>\n",
       "      <td>1</td>\n",
       "      <td>0</td>\n",
       "      <td>0</td>\n",
       "      <td>0</td>\n",
       "      <td>...</td>\n",
       "      <td>0</td>\n",
       "      <td>0</td>\n",
       "      <td>1</td>\n",
       "      <td>0</td>\n",
       "      <td>0</td>\n",
       "      <td>1</td>\n",
       "      <td>0</td>\n",
       "      <td>0</td>\n",
       "      <td>0</td>\n",
       "      <td>1</td>\n",
       "    </tr>\n",
       "    <tr>\n",
       "      <th>1</th>\n",
       "      <td>40</td>\n",
       "      <td>0.027465</td>\n",
       "      <td>1</td>\n",
       "      <td>0</td>\n",
       "      <td>0</td>\n",
       "      <td>0</td>\n",
       "      <td>0</td>\n",
       "      <td>0</td>\n",
       "      <td>0</td>\n",
       "      <td>1</td>\n",
       "      <td>...</td>\n",
       "      <td>0</td>\n",
       "      <td>0</td>\n",
       "      <td>1</td>\n",
       "      <td>0</td>\n",
       "      <td>0</td>\n",
       "      <td>0</td>\n",
       "      <td>1</td>\n",
       "      <td>0</td>\n",
       "      <td>1</td>\n",
       "      <td>0</td>\n",
       "    </tr>\n",
       "    <tr>\n",
       "      <th>2</th>\n",
       "      <td>40</td>\n",
       "      <td>0.027465</td>\n",
       "      <td>0</td>\n",
       "      <td>0</td>\n",
       "      <td>1</td>\n",
       "      <td>0</td>\n",
       "      <td>0</td>\n",
       "      <td>0</td>\n",
       "      <td>0</td>\n",
       "      <td>0</td>\n",
       "      <td>...</td>\n",
       "      <td>0</td>\n",
       "      <td>0</td>\n",
       "      <td>1</td>\n",
       "      <td>0</td>\n",
       "      <td>0</td>\n",
       "      <td>1</td>\n",
       "      <td>0</td>\n",
       "      <td>0</td>\n",
       "      <td>1</td>\n",
       "      <td>0</td>\n",
       "    </tr>\n",
       "    <tr>\n",
       "      <th>3</th>\n",
       "      <td>30</td>\n",
       "      <td>0.027465</td>\n",
       "      <td>0</td>\n",
       "      <td>0</td>\n",
       "      <td>0</td>\n",
       "      <td>0</td>\n",
       "      <td>1</td>\n",
       "      <td>0</td>\n",
       "      <td>0</td>\n",
       "      <td>1</td>\n",
       "      <td>...</td>\n",
       "      <td>0</td>\n",
       "      <td>0</td>\n",
       "      <td>1</td>\n",
       "      <td>0</td>\n",
       "      <td>0</td>\n",
       "      <td>1</td>\n",
       "      <td>0</td>\n",
       "      <td>0</td>\n",
       "      <td>0</td>\n",
       "      <td>1</td>\n",
       "    </tr>\n",
       "    <tr>\n",
       "      <th>4</th>\n",
       "      <td>70</td>\n",
       "      <td>0.027465</td>\n",
       "      <td>0</td>\n",
       "      <td>0</td>\n",
       "      <td>0</td>\n",
       "      <td>0</td>\n",
       "      <td>1</td>\n",
       "      <td>0</td>\n",
       "      <td>0</td>\n",
       "      <td>0</td>\n",
       "      <td>...</td>\n",
       "      <td>0</td>\n",
       "      <td>0</td>\n",
       "      <td>1</td>\n",
       "      <td>0</td>\n",
       "      <td>0</td>\n",
       "      <td>0</td>\n",
       "      <td>1</td>\n",
       "      <td>0</td>\n",
       "      <td>1</td>\n",
       "      <td>0</td>\n",
       "    </tr>\n",
       "  </tbody>\n",
       "</table>\n",
       "<p>5 rows × 71 columns</p>\n",
       "</div>"
      ],
      "text/plain": [
       "   average_runtime(minutes_per_week)   ratings  relationship_status_Divorced  \\\n",
       "0                                 40  0.027465                             0   \n",
       "1                                 40  0.027465                             1   \n",
       "2                                 40  0.027465                             0   \n",
       "3                                 30  0.027465                             0   \n",
       "4                                 70  0.027465                             0   \n",
       "\n",
       "   relationship_status_Married-AF-spouse  \\\n",
       "0                                      0   \n",
       "1                                      0   \n",
       "2                                      0   \n",
       "3                                      0   \n",
       "4                                      0   \n",
       "\n",
       "   relationship_status_Married-civ-spouse  \\\n",
       "0                                       0   \n",
       "1                                       0   \n",
       "2                                       1   \n",
       "3                                       0   \n",
       "4                                       0   \n",
       "\n",
       "   relationship_status_Married-spouse-absent  \\\n",
       "0                                          0   \n",
       "1                                          0   \n",
       "2                                          0   \n",
       "3                                          0   \n",
       "4                                          0   \n",
       "\n",
       "   relationship_status_Never-married  relationship_status_Separated  \\\n",
       "0                                  1                              0   \n",
       "1                                  0                              0   \n",
       "2                                  0                              0   \n",
       "3                                  1                              0   \n",
       "4                                  1                              0   \n",
       "\n",
       "   relationship_status_Widowed  industry_Auto  ...  airlocation_Taiwan  \\\n",
       "0                            0              0  ...                   0   \n",
       "1                            0              1  ...                   0   \n",
       "2                            0              0  ...                   0   \n",
       "3                            0              1  ...                   0   \n",
       "4                            0              0  ...                   0   \n",
       "\n",
       "   airlocation_Thailand  airlocation_United-States  airlocation_Vietnam  \\\n",
       "0                     0                          1                    0   \n",
       "1                     0                          1                    0   \n",
       "2                     0                          1                    0   \n",
       "3                     0                          1                    0   \n",
       "4                     0                          1                    0   \n",
       "\n",
       "   airlocation_Yugoslavia  expensive_High  expensive_Low  expensive_Medium  \\\n",
       "0                       0               1              0                 0   \n",
       "1                       0               0              1                 0   \n",
       "2                       0               1              0                 0   \n",
       "3                       0               1              0                 0   \n",
       "4                       0               0              1                 0   \n",
       "\n",
       "   money_back_guarantee_No  money_back_guarantee_Yes  \n",
       "0                        0                         1  \n",
       "1                        1                         0  \n",
       "2                        1                         0  \n",
       "3                        0                         1  \n",
       "4                        1                         0  \n",
       "\n",
       "[5 rows x 71 columns]"
      ]
     },
     "execution_count": 42,
     "metadata": {},
     "output_type": "execute_result"
    }
   ],
   "source": [
    "# Let's remove 'UserID' from the data and convert all categorical data into numerical\n",
    "test = pd.get_dummies(test_df.drop(['UserID'], axis=1))\n",
    "test.head()"
   ]
  },
  {
   "cell_type": "markdown",
   "metadata": {},
   "source": [
    "## 9. Generating Predictions <a name=\"predictions\"></a>"
   ]
  },
  {
   "cell_type": "code",
   "execution_count": 44,
   "metadata": {},
   "outputs": [
    {
     "name": "stdout",
     "output_type": "stream",
     "text": [
      "9138     0\n",
      "3563     0\n",
      "16696    1\n",
      "6874     0\n",
      "1580     0\n",
      "        ..\n",
      "8235     0\n",
      "9463     1\n",
      "8484     0\n",
      "17063    1\n",
      "1320     0\n",
      "Name: netgain, Length: 13663, dtype: int64\n"
     ]
    }
   ],
   "source": [
    "pred = xgboost.predict(test)"
   ]
  },
  {
   "cell_type": "code",
   "execution_count": 145,
   "metadata": {},
   "outputs": [],
   "source": [
    "submission = pd.DataFrame()\n",
    "submission['netgain'] = pred"
   ]
  },
  {
   "cell_type": "code",
   "execution_count": 146,
   "metadata": {},
   "outputs": [],
   "source": [
    "submission.to_csv('output/submission.csv', index=False)"
   ]
  },
  {
   "cell_type": "markdown",
   "metadata": {},
   "source": [
    "<div style=\"color:#EA0B66; font-size: 24px;\"><center><h1><a href=\"#table_of_contents\">Go To Top</a></h1></center></div>"
   ]
  }
 ],
 "metadata": {
  "kernelspec": {
   "display_name": "Python 3",
   "language": "python",
   "name": "python3"
  },
  "language_info": {
   "codemirror_mode": {
    "name": "ipython",
    "version": 3
   },
   "file_extension": ".py",
   "mimetype": "text/x-python",
   "name": "python",
   "nbconvert_exporter": "python",
   "pygments_lexer": "ipython3",
   "version": "3.8.3"
  }
 },
 "nbformat": 4,
 "nbformat_minor": 4
}
